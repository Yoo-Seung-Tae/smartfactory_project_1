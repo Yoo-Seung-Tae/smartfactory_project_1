{
 "cells": [
  {
   "cell_type": "code",
   "execution_count": null,
   "id": "197e9441-6133-473a-97e1-12d3e11d4ede",
   "metadata": {},
   "outputs": [],
   "source": []
  },
  {
   "cell_type": "code",
   "execution_count": null,
   "id": "929d23e4-88f5-4fac-8baf-6d1a8ed1a3bb",
   "metadata": {},
   "outputs": [],
   "source": [
    "import nltk\n",
    "from nltk.tokenize import word_tokenize\n",
    "#text = 'David\\'s book wasn\\'t famous, but his family loved his book.'\n",
    "text=data[0]\n",
    "word_tokenize(text)"
   ]
  },
  {
   "cell_type": "code",
   "execution_count": null,
   "id": "6a6f7563-fd59-4f3f-b68e-094df4e0bb7e",
   "metadata": {},
   "outputs": [],
   "source": [
    "nltk.download('punkt_tab')\n",
    "nltk.download('popular')"
   ]
  },
  {
   "cell_type": "code",
   "execution_count": null,
   "id": "16fe9228-082e-4d5f-b83f-f1190dd51f3b",
   "metadata": {},
   "outputs": [],
   "source": [
    "#from nltk.tokenize import WordPunctTokenizer\n",
    "#punct_tokenizer = WordPunctTokenizer()\n",
    "#punct_tokenizer.tokenize(text)"
   ]
  },
  {
   "cell_type": "code",
   "execution_count": null,
   "id": "6b3682ae-c41e-4536-aced-c00db8882742",
   "metadata": {},
   "outputs": [],
   "source": [
    "from nltk.corpus import stopwords\n",
    "stop_word_list = stopwords.words('english')\n",
    "for text in stop_word_list:\n",
    "    print(text)"
   ]
  },
  {
   "cell_type": "code",
   "execution_count": null,
   "id": "15c180f8-f3c6-4303-a733-9ab073240c8a",
   "metadata": {},
   "outputs": [],
   "source": [
    "token_list = [ token for token in word_tokenize(text) if token not in stop_word_list]\n",
    "print(token_list)\n",
    "print(word_tokenize(text))"
   ]
  }
 ],
 "metadata": {
  "kernelspec": {
   "display_name": "Python 3 (ipykernel)",
   "language": "python",
   "name": "python3"
  },
  "language_info": {
   "codemirror_mode": {
    "name": "ipython",
    "version": 3
   },
   "file_extension": ".py",
   "mimetype": "text/x-python",
   "name": "python",
   "nbconvert_exporter": "python",
   "pygments_lexer": "ipython3",
   "version": "3.12.7"
  }
 },
 "nbformat": 4,
 "nbformat_minor": 5
}
